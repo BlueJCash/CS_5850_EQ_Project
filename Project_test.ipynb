{
 "cells": [
  {
   "cell_type": "code",
   "execution_count": 4,
   "metadata": {},
   "outputs": [
    {
     "name": "stdout",
     "output_type": "stream",
     "text": [
      "Requirement already satisfied: obspy in c:\\users\\tompr\\anaconda3\\envs\\tf\\lib\\site-packages (1.4.1)\n",
      "Requirement already satisfied: numpy>=1.20 in c:\\users\\tompr\\anaconda3\\envs\\tf\\lib\\site-packages (from obspy) (1.26.2)\n",
      "Requirement already satisfied: scipy>=1.7 in c:\\users\\tompr\\anaconda3\\envs\\tf\\lib\\site-packages (from obspy) (1.11.4)\n",
      "Requirement already satisfied: matplotlib>=3.3 in c:\\users\\tompr\\anaconda3\\envs\\tf\\lib\\site-packages (from obspy) (3.9.2)\n",
      "Requirement already satisfied: lxml in c:\\users\\tompr\\anaconda3\\envs\\tf\\lib\\site-packages (from obspy) (5.3.0)\n",
      "Requirement already satisfied: setuptools in c:\\users\\tompr\\anaconda3\\envs\\tf\\lib\\site-packages (from obspy) (68.0.0)\n",
      "Requirement already satisfied: sqlalchemy<2 in c:\\users\\tompr\\anaconda3\\envs\\tf\\lib\\site-packages (from obspy) (1.4.54)\n",
      "Requirement already satisfied: decorator in c:\\users\\tompr\\anaconda3\\envs\\tf\\lib\\site-packages (from obspy) (5.1.1)\n",
      "Requirement already satisfied: requests in c:\\users\\tompr\\anaconda3\\envs\\tf\\lib\\site-packages (from obspy) (2.31.0)\n",
      "Requirement already satisfied: contourpy>=1.0.1 in c:\\users\\tompr\\anaconda3\\envs\\tf\\lib\\site-packages (from matplotlib>=3.3->obspy) (1.3.0)\n",
      "Requirement already satisfied: cycler>=0.10 in c:\\users\\tompr\\anaconda3\\envs\\tf\\lib\\site-packages (from matplotlib>=3.3->obspy) (0.12.1)\n",
      "Requirement already satisfied: fonttools>=4.22.0 in c:\\users\\tompr\\anaconda3\\envs\\tf\\lib\\site-packages (from matplotlib>=3.3->obspy) (4.54.1)\n",
      "Requirement already satisfied: kiwisolver>=1.3.1 in c:\\users\\tompr\\anaconda3\\envs\\tf\\lib\\site-packages (from matplotlib>=3.3->obspy) (1.4.7)\n",
      "Requirement already satisfied: packaging>=20.0 in c:\\users\\tompr\\anaconda3\\envs\\tf\\lib\\site-packages (from matplotlib>=3.3->obspy) (23.2)\n",
      "Requirement already satisfied: pillow>=8 in c:\\users\\tompr\\anaconda3\\envs\\tf\\lib\\site-packages (from matplotlib>=3.3->obspy) (10.1.0)\n",
      "Requirement already satisfied: pyparsing>=2.3.1 in c:\\users\\tompr\\anaconda3\\envs\\tf\\lib\\site-packages (from matplotlib>=3.3->obspy) (3.2.0)\n",
      "Requirement already satisfied: python-dateutil>=2.7 in c:\\users\\tompr\\anaconda3\\envs\\tf\\lib\\site-packages (from matplotlib>=3.3->obspy) (2.9.0)\n",
      "Requirement already satisfied: importlib-resources>=3.2.0 in c:\\users\\tompr\\anaconda3\\envs\\tf\\lib\\site-packages (from matplotlib>=3.3->obspy) (6.1.1)\n",
      "Requirement already satisfied: greenlet!=0.4.17 in c:\\users\\tompr\\anaconda3\\envs\\tf\\lib\\site-packages (from sqlalchemy<2->obspy) (3.1.1)\n",
      "Requirement already satisfied: charset-normalizer<4,>=2 in c:\\users\\tompr\\anaconda3\\envs\\tf\\lib\\site-packages (from requests->obspy) (3.3.2)\n",
      "Requirement already satisfied: idna<4,>=2.5 in c:\\users\\tompr\\anaconda3\\envs\\tf\\lib\\site-packages (from requests->obspy) (3.6)\n",
      "Requirement already satisfied: urllib3<3,>=1.21.1 in c:\\users\\tompr\\anaconda3\\envs\\tf\\lib\\site-packages (from requests->obspy) (2.1.0)\n",
      "Requirement already satisfied: certifi>=2017.4.17 in c:\\users\\tompr\\anaconda3\\envs\\tf\\lib\\site-packages (from requests->obspy) (2023.11.17)\n",
      "Requirement already satisfied: zipp>=3.1.0 in c:\\users\\tompr\\anaconda3\\envs\\tf\\lib\\site-packages (from importlib-resources>=3.2.0->matplotlib>=3.3->obspy) (3.17.0)\n",
      "Requirement already satisfied: six>=1.5 in c:\\users\\tompr\\anaconda3\\envs\\tf\\lib\\site-packages (from python-dateutil>=2.7->matplotlib>=3.3->obspy) (1.16.0)\n"
     ]
    }
   ],
   "source": [
    "!pip install obspy"
   ]
  },
  {
   "cell_type": "code",
   "execution_count": 5,
   "metadata": {},
   "outputs": [
    {
     "ename": "TypeError",
     "evalue": "Format \"QUAKEML\" is not supported. Supported types: ",
     "output_type": "error",
     "traceback": [
      "\u001b[1;31m---------------------------------------------------------------------------\u001b[0m",
      "\u001b[1;31mKeyError\u001b[0m                                  Traceback (most recent call last)",
      "File \u001b[1;32mc:\\Users\\tompr\\anaconda3\\envs\\tf\\lib\\site-packages\\obspy\\core\\util\\base.py:408\u001b[0m, in \u001b[0;36m_read_from_plugin\u001b[1;34m(plugin_type, filename, format, **kwargs)\u001b[0m\n\u001b[0;32m    407\u001b[0m \u001b[38;5;28;01mtry\u001b[39;00m:\n\u001b[1;32m--> 408\u001b[0m     format_ep \u001b[38;5;241m=\u001b[39m \u001b[43meps\u001b[49m\u001b[43m[\u001b[49m\u001b[38;5;28;43mformat\u001b[39;49m\u001b[43m]\u001b[49m\n\u001b[0;32m    409\u001b[0m \u001b[38;5;28;01mexcept\u001b[39;00m (\u001b[38;5;167;01mKeyError\u001b[39;00m, \u001b[38;5;167;01mIndexError\u001b[39;00m):\n",
      "\u001b[1;31mKeyError\u001b[0m: 'QUAKEML'",
      "\nDuring handling of the above exception, another exception occurred:\n",
      "\u001b[1;31mTypeError\u001b[0m                                 Traceback (most recent call last)",
      "File \u001b[1;32mc:\\Users\\tompr\\anaconda3\\envs\\tf\\lib\\site-packages\\obspy\\core\\util\\base.py:624\u001b[0m, in \u001b[0;36m_generic_reader\u001b[1;34m(pathname_or_url, callback_func, **kwargs)\u001b[0m\n\u001b[0;32m    622\u001b[0m \u001b[38;5;28;01mtry\u001b[39;00m:\n\u001b[0;32m    623\u001b[0m     \u001b[38;5;66;03m# first try reading directly\u001b[39;00m\n\u001b[1;32m--> 624\u001b[0m     generic \u001b[38;5;241m=\u001b[39m callback_func(pathname_or_url, \u001b[38;5;241m*\u001b[39m\u001b[38;5;241m*\u001b[39mkwargs)\n\u001b[0;32m    625\u001b[0m \u001b[38;5;28;01mexcept\u001b[39;00m \u001b[38;5;167;01mTypeError\u001b[39;00m:\n\u001b[0;32m    626\u001b[0m     \u001b[38;5;66;03m# if this fails, create a temporary file which is read directly\u001b[39;00m\n\u001b[0;32m    627\u001b[0m     \u001b[38;5;66;03m# from the file system\u001b[39;00m\n",
      "File \u001b[1;32mc:\\Users\\tompr\\anaconda3\\envs\\tf\\lib\\site-packages\\decorator.py:232\u001b[0m, in \u001b[0;36mdecorate.<locals>.fun\u001b[1;34m(*args, **kw)\u001b[0m\n\u001b[0;32m    231\u001b[0m     args, kw \u001b[38;5;241m=\u001b[39m fix(args, kw, sig)\n\u001b[1;32m--> 232\u001b[0m \u001b[38;5;28;01mreturn\u001b[39;00m caller(func, \u001b[38;5;241m*\u001b[39m(extras \u001b[38;5;241m+\u001b[39m args), \u001b[38;5;241m*\u001b[39m\u001b[38;5;241m*\u001b[39mkw)\n",
      "File \u001b[1;32mc:\\Users\\tompr\\anaconda3\\envs\\tf\\lib\\site-packages\\obspy\\core\\util\\decorator.py:142\u001b[0m, in \u001b[0;36muncompress_file\u001b[1;34m(func, filename, *args, **kwargs)\u001b[0m\n\u001b[0;32m    141\u001b[0m \u001b[38;5;28;01mif\u001b[39;00m \u001b[38;5;129;01mnot\u001b[39;00m \u001b[38;5;28misinstance\u001b[39m(filename, \u001b[38;5;28mstr\u001b[39m):\n\u001b[1;32m--> 142\u001b[0m     \u001b[38;5;28;01mreturn\u001b[39;00m func(filename, \u001b[38;5;241m*\u001b[39margs, \u001b[38;5;241m*\u001b[39m\u001b[38;5;241m*\u001b[39mkwargs)\n\u001b[0;32m    143\u001b[0m \u001b[38;5;28;01melif\u001b[39;00m \u001b[38;5;129;01mnot\u001b[39;00m Path(filename)\u001b[38;5;241m.\u001b[39mexists():\n",
      "File \u001b[1;32mc:\\Users\\tompr\\anaconda3\\envs\\tf\\lib\\site-packages\\obspy\\core\\event\\catalog.py:818\u001b[0m, in \u001b[0;36m_read\u001b[1;34m(filename, format, **kwargs)\u001b[0m\n\u001b[0;32m    815\u001b[0m \u001b[38;5;250m\u001b[39m\u001b[38;5;124;03m\"\"\"\u001b[39;00m\n\u001b[0;32m    816\u001b[0m \u001b[38;5;124;03mReads a single event file into a ObsPy Catalog object.\u001b[39;00m\n\u001b[0;32m    817\u001b[0m \u001b[38;5;124;03m\"\"\"\u001b[39;00m\n\u001b[1;32m--> 818\u001b[0m catalog, \u001b[38;5;28mformat\u001b[39m \u001b[38;5;241m=\u001b[39m _read_from_plugin(\u001b[38;5;124m'\u001b[39m\u001b[38;5;124mevent\u001b[39m\u001b[38;5;124m'\u001b[39m, filename, \u001b[38;5;28mformat\u001b[39m\u001b[38;5;241m=\u001b[39m\u001b[38;5;28mformat\u001b[39m,\n\u001b[0;32m    819\u001b[0m                                     \u001b[38;5;241m*\u001b[39m\u001b[38;5;241m*\u001b[39mkwargs)\n\u001b[0;32m    820\u001b[0m \u001b[38;5;28;01mfor\u001b[39;00m event \u001b[38;5;129;01min\u001b[39;00m catalog:\n",
      "File \u001b[1;32mc:\\Users\\tompr\\anaconda3\\envs\\tf\\lib\\site-packages\\obspy\\core\\util\\base.py:411\u001b[0m, in \u001b[0;36m_read_from_plugin\u001b[1;34m(plugin_type, filename, format, **kwargs)\u001b[0m\n\u001b[0;32m    410\u001b[0m         msg \u001b[38;5;241m=\u001b[39m \u001b[38;5;124m\"\u001b[39m\u001b[38;5;124mFormat \u001b[39m\u001b[38;5;130;01m\\\"\u001b[39;00m\u001b[38;5;132;01m%s\u001b[39;00m\u001b[38;5;130;01m\\\"\u001b[39;00m\u001b[38;5;124m is not supported. Supported types: \u001b[39m\u001b[38;5;132;01m%s\u001b[39;00m\u001b[38;5;124m\"\u001b[39m\n\u001b[1;32m--> 411\u001b[0m         \u001b[38;5;28;01mraise\u001b[39;00m \u001b[38;5;167;01mTypeError\u001b[39;00m(msg \u001b[38;5;241m%\u001b[39m (\u001b[38;5;28mformat\u001b[39m, \u001b[38;5;124m'\u001b[39m\u001b[38;5;124m, \u001b[39m\u001b[38;5;124m'\u001b[39m\u001b[38;5;241m.\u001b[39mjoin(eps)))\n\u001b[0;32m    412\u001b[0m \u001b[38;5;66;03m# file format should be known by now\u001b[39;00m\n",
      "\u001b[1;31mTypeError\u001b[0m: Format \"QUAKEML\" is not supported. Supported types: ",
      "\nDuring handling of the above exception, another exception occurred:\n",
      "\u001b[1;31mKeyError\u001b[0m                                  Traceback (most recent call last)",
      "File \u001b[1;32mc:\\Users\\tompr\\anaconda3\\envs\\tf\\lib\\site-packages\\obspy\\core\\util\\base.py:408\u001b[0m, in \u001b[0;36m_read_from_plugin\u001b[1;34m(plugin_type, filename, format, **kwargs)\u001b[0m\n\u001b[0;32m    407\u001b[0m \u001b[38;5;28;01mtry\u001b[39;00m:\n\u001b[1;32m--> 408\u001b[0m     format_ep \u001b[38;5;241m=\u001b[39m \u001b[43meps\u001b[49m\u001b[43m[\u001b[49m\u001b[38;5;28;43mformat\u001b[39;49m\u001b[43m]\u001b[49m\n\u001b[0;32m    409\u001b[0m \u001b[38;5;28;01mexcept\u001b[39;00m (\u001b[38;5;167;01mKeyError\u001b[39;00m, \u001b[38;5;167;01mIndexError\u001b[39;00m):\n",
      "\u001b[1;31mKeyError\u001b[0m: 'QUAKEML'",
      "\nDuring handling of the above exception, another exception occurred:\n",
      "\u001b[1;31mTypeError\u001b[0m                                 Traceback (most recent call last)",
      "Cell \u001b[1;32mIn[5], line 5\u001b[0m\n\u001b[0;32m      1\u001b[0m \u001b[38;5;28;01mfrom\u001b[39;00m \u001b[38;5;21;01mobspy\u001b[39;00m\u001b[38;5;21;01m.\u001b[39;00m\u001b[38;5;21;01mclients\u001b[39;00m\u001b[38;5;21;01m.\u001b[39;00m\u001b[38;5;21;01mfdsn\u001b[39;00m \u001b[38;5;28;01mimport\u001b[39;00m Client\n\u001b[0;32m      3\u001b[0m client \u001b[38;5;241m=\u001b[39m Client(\u001b[38;5;124m\"\u001b[39m\u001b[38;5;124mUSGS\u001b[39m\u001b[38;5;124m\"\u001b[39m)\n\u001b[1;32m----> 5\u001b[0m catalog \u001b[38;5;241m=\u001b[39m \u001b[43mclient\u001b[49m\u001b[38;5;241;43m.\u001b[39;49m\u001b[43mget_events\u001b[49m\u001b[43m(\u001b[49m\u001b[43mstarttime\u001b[49m\u001b[38;5;241;43m=\u001b[39;49m\u001b[38;5;124;43m\"\u001b[39;49m\u001b[38;5;124;43m2024-10-01\u001b[39;49m\u001b[38;5;124;43m\"\u001b[39;49m\u001b[43m,\u001b[49m\u001b[43m \u001b[49m\u001b[43mendtime\u001b[49m\u001b[38;5;241;43m=\u001b[39;49m\u001b[38;5;124;43m\"\u001b[39;49m\u001b[38;5;124;43m2024-10-11\u001b[39;49m\u001b[38;5;124;43m\"\u001b[39;49m\u001b[43m,\u001b[49m\u001b[43m \u001b[49m\u001b[43mminmagnitude\u001b[49m\u001b[38;5;241;43m=\u001b[39;49m\u001b[38;5;241;43m3\u001b[39;49m\u001b[43m)\u001b[49m\n\u001b[0;32m      7\u001b[0m \u001b[38;5;28;01mfor\u001b[39;00m event \u001b[38;5;129;01min\u001b[39;00m catalog:\n\u001b[0;32m      8\u001b[0m     temp \u001b[38;5;241m=\u001b[39m event\u001b[38;5;241m.\u001b[39morigins[\u001b[38;5;241m0\u001b[39m]\n",
      "File \u001b[1;32mc:\\Users\\tompr\\anaconda3\\envs\\tf\\lib\\site-packages\\obspy\\clients\\fdsn\\client.py:556\u001b[0m, in \u001b[0;36mClient.get_events\u001b[1;34m(self, starttime, endtime, minlatitude, maxlatitude, minlongitude, maxlongitude, latitude, longitude, minradius, maxradius, mindepth, maxdepth, minmagnitude, maxmagnitude, magnitudetype, eventtype, includeallorigins, includeallmagnitudes, includearrivals, eventid, limit, offset, orderby, catalog, contributor, updatedafter, filename, **kwargs)\u001b[0m\n\u001b[0;32m    554\u001b[0m     data_stream\u001b[38;5;241m.\u001b[39mclose()\n\u001b[0;32m    555\u001b[0m \u001b[38;5;28;01melse\u001b[39;00m:\n\u001b[1;32m--> 556\u001b[0m     cat \u001b[38;5;241m=\u001b[39m \u001b[43mobspy\u001b[49m\u001b[38;5;241;43m.\u001b[39;49m\u001b[43mread_events\u001b[49m\u001b[43m(\u001b[49m\u001b[43mdata_stream\u001b[49m\u001b[43m,\u001b[49m\u001b[43m \u001b[49m\u001b[38;5;28;43mformat\u001b[39;49m\u001b[38;5;241;43m=\u001b[39;49m\u001b[38;5;124;43m\"\u001b[39;49m\u001b[38;5;124;43mquakeml\u001b[39;49m\u001b[38;5;124;43m\"\u001b[39;49m\u001b[43m)\u001b[49m\n\u001b[0;32m    557\u001b[0m     data_stream\u001b[38;5;241m.\u001b[39mclose()\n\u001b[0;32m    558\u001b[0m     \u001b[38;5;28;01mreturn\u001b[39;00m cat\n",
      "File \u001b[1;32mc:\\Users\\tompr\\anaconda3\\envs\\tf\\lib\\site-packages\\decorator.py:232\u001b[0m, in \u001b[0;36mdecorate.<locals>.fun\u001b[1;34m(*args, **kw)\u001b[0m\n\u001b[0;32m    230\u001b[0m \u001b[38;5;28;01mif\u001b[39;00m \u001b[38;5;129;01mnot\u001b[39;00m kwsyntax:\n\u001b[0;32m    231\u001b[0m     args, kw \u001b[38;5;241m=\u001b[39m fix(args, kw, sig)\n\u001b[1;32m--> 232\u001b[0m \u001b[38;5;28;01mreturn\u001b[39;00m caller(func, \u001b[38;5;241m*\u001b[39m(extras \u001b[38;5;241m+\u001b[39m args), \u001b[38;5;241m*\u001b[39m\u001b[38;5;241m*\u001b[39mkw)\n",
      "File \u001b[1;32mc:\\Users\\tompr\\anaconda3\\envs\\tf\\lib\\site-packages\\obspy\\core\\util\\decorator.py:297\u001b[0m, in \u001b[0;36mmap_example_filename.<locals>._map_example_filename\u001b[1;34m(func, *args, **kwargs)\u001b[0m\n\u001b[0;32m    295\u001b[0m                 \u001b[38;5;28;01mexcept\u001b[39;00m \u001b[38;5;167;01mIOError\u001b[39;00m:\n\u001b[0;32m    296\u001b[0m                     \u001b[38;5;28;01mpass\u001b[39;00m\n\u001b[1;32m--> 297\u001b[0m \u001b[38;5;28;01mreturn\u001b[39;00m func(\u001b[38;5;241m*\u001b[39margs, \u001b[38;5;241m*\u001b[39m\u001b[38;5;241m*\u001b[39mkwargs)\n",
      "File \u001b[1;32mc:\\Users\\tompr\\anaconda3\\envs\\tf\\lib\\site-packages\\obspy\\core\\event\\catalog.py:810\u001b[0m, in \u001b[0;36mread_events\u001b[1;34m(pathname_or_url, format, **kwargs)\u001b[0m\n\u001b[0;32m    808\u001b[0m     \u001b[38;5;28;01mreturn\u001b[39;00m _create_example_catalog()\n\u001b[0;32m    809\u001b[0m \u001b[38;5;28;01melse\u001b[39;00m:\n\u001b[1;32m--> 810\u001b[0m     \u001b[38;5;28;01mreturn\u001b[39;00m _generic_reader(pathname_or_url, _read, \u001b[38;5;28mformat\u001b[39m\u001b[38;5;241m=\u001b[39m\u001b[38;5;28mformat\u001b[39m, \u001b[38;5;241m*\u001b[39m\u001b[38;5;241m*\u001b[39mkwargs)\n",
      "File \u001b[1;32mc:\\Users\\tompr\\anaconda3\\envs\\tf\\lib\\site-packages\\obspy\\core\\util\\base.py:631\u001b[0m, in \u001b[0;36m_generic_reader\u001b[1;34m(pathname_or_url, callback_func, **kwargs)\u001b[0m\n\u001b[0;32m    629\u001b[0m         \u001b[38;5;28;01mwith\u001b[39;00m NamedTemporaryFile() \u001b[38;5;28;01mas\u001b[39;00m fh:\n\u001b[0;32m    630\u001b[0m             fh\u001b[38;5;241m.\u001b[39mwrite(pathname_or_url\u001b[38;5;241m.\u001b[39mread())\n\u001b[1;32m--> 631\u001b[0m             generic \u001b[38;5;241m=\u001b[39m callback_func(fh\u001b[38;5;241m.\u001b[39mname, \u001b[38;5;241m*\u001b[39m\u001b[38;5;241m*\u001b[39mkwargs)\n\u001b[0;32m    632\u001b[0m     \u001b[38;5;28;01mreturn\u001b[39;00m generic\n\u001b[0;32m    633\u001b[0m \u001b[38;5;28;01melif\u001b[39;00m \u001b[38;5;28misinstance\u001b[39m(pathname_or_url, \u001b[38;5;28mbytes\u001b[39m) \u001b[38;5;129;01mand\u001b[39;00m \\\n\u001b[0;32m    634\u001b[0m         pathname_or_url\u001b[38;5;241m.\u001b[39mstrip()\u001b[38;5;241m.\u001b[39mstartswith(\u001b[38;5;124mb\u001b[39m\u001b[38;5;124m'\u001b[39m\u001b[38;5;124m<\u001b[39m\u001b[38;5;124m'\u001b[39m):\n\u001b[0;32m    635\u001b[0m     \u001b[38;5;66;03m# XML string\u001b[39;00m\n",
      "File \u001b[1;32mc:\\Users\\tompr\\anaconda3\\envs\\tf\\lib\\site-packages\\decorator.py:232\u001b[0m, in \u001b[0;36mdecorate.<locals>.fun\u001b[1;34m(*args, **kw)\u001b[0m\n\u001b[0;32m    230\u001b[0m \u001b[38;5;28;01mif\u001b[39;00m \u001b[38;5;129;01mnot\u001b[39;00m kwsyntax:\n\u001b[0;32m    231\u001b[0m     args, kw \u001b[38;5;241m=\u001b[39m fix(args, kw, sig)\n\u001b[1;32m--> 232\u001b[0m \u001b[38;5;28;01mreturn\u001b[39;00m caller(func, \u001b[38;5;241m*\u001b[39m(extras \u001b[38;5;241m+\u001b[39m args), \u001b[38;5;241m*\u001b[39m\u001b[38;5;241m*\u001b[39mkw)\n",
      "File \u001b[1;32mc:\\Users\\tompr\\anaconda3\\envs\\tf\\lib\\site-packages\\obspy\\core\\util\\decorator.py:208\u001b[0m, in \u001b[0;36muncompress_file\u001b[1;34m(func, filename, *args, **kwargs)\u001b[0m\n\u001b[0;32m    205\u001b[0m                 result \u001b[38;5;241m+\u001b[39m\u001b[38;5;241m=\u001b[39m stream\n\u001b[0;32m    206\u001b[0m \u001b[38;5;28;01melse\u001b[39;00m:\n\u001b[0;32m    207\u001b[0m     \u001b[38;5;66;03m# no compressions\u001b[39;00m\n\u001b[1;32m--> 208\u001b[0m     result \u001b[38;5;241m=\u001b[39m func(filename, \u001b[38;5;241m*\u001b[39margs, \u001b[38;5;241m*\u001b[39m\u001b[38;5;241m*\u001b[39mkwargs)\n\u001b[0;32m    209\u001b[0m \u001b[38;5;28;01mreturn\u001b[39;00m result\n",
      "File \u001b[1;32mc:\\Users\\tompr\\anaconda3\\envs\\tf\\lib\\site-packages\\obspy\\core\\event\\catalog.py:818\u001b[0m, in \u001b[0;36m_read\u001b[1;34m(filename, format, **kwargs)\u001b[0m\n\u001b[0;32m    813\u001b[0m \u001b[38;5;129m@uncompress_file\u001b[39m\n\u001b[0;32m    814\u001b[0m \u001b[38;5;28;01mdef\u001b[39;00m \u001b[38;5;21m_read\u001b[39m(filename, \u001b[38;5;28mformat\u001b[39m\u001b[38;5;241m=\u001b[39m\u001b[38;5;28;01mNone\u001b[39;00m, \u001b[38;5;241m*\u001b[39m\u001b[38;5;241m*\u001b[39mkwargs):\n\u001b[0;32m    815\u001b[0m \u001b[38;5;250m    \u001b[39m\u001b[38;5;124;03m\"\"\"\u001b[39;00m\n\u001b[0;32m    816\u001b[0m \u001b[38;5;124;03m    Reads a single event file into a ObsPy Catalog object.\u001b[39;00m\n\u001b[0;32m    817\u001b[0m \u001b[38;5;124;03m    \"\"\"\u001b[39;00m\n\u001b[1;32m--> 818\u001b[0m     catalog, \u001b[38;5;28mformat\u001b[39m \u001b[38;5;241m=\u001b[39m _read_from_plugin(\u001b[38;5;124m'\u001b[39m\u001b[38;5;124mevent\u001b[39m\u001b[38;5;124m'\u001b[39m, filename, \u001b[38;5;28mformat\u001b[39m\u001b[38;5;241m=\u001b[39m\u001b[38;5;28mformat\u001b[39m,\n\u001b[0;32m    819\u001b[0m                                         \u001b[38;5;241m*\u001b[39m\u001b[38;5;241m*\u001b[39mkwargs)\n\u001b[0;32m    820\u001b[0m     \u001b[38;5;28;01mfor\u001b[39;00m event \u001b[38;5;129;01min\u001b[39;00m catalog:\n\u001b[0;32m    821\u001b[0m         event\u001b[38;5;241m.\u001b[39m_format \u001b[38;5;241m=\u001b[39m \u001b[38;5;28mformat\u001b[39m\n",
      "File \u001b[1;32mc:\\Users\\tompr\\anaconda3\\envs\\tf\\lib\\site-packages\\obspy\\core\\util\\base.py:411\u001b[0m, in \u001b[0;36m_read_from_plugin\u001b[1;34m(plugin_type, filename, format, **kwargs)\u001b[0m\n\u001b[0;32m    409\u001b[0m     \u001b[38;5;28;01mexcept\u001b[39;00m (\u001b[38;5;167;01mKeyError\u001b[39;00m, \u001b[38;5;167;01mIndexError\u001b[39;00m):\n\u001b[0;32m    410\u001b[0m         msg \u001b[38;5;241m=\u001b[39m \u001b[38;5;124m\"\u001b[39m\u001b[38;5;124mFormat \u001b[39m\u001b[38;5;130;01m\\\"\u001b[39;00m\u001b[38;5;132;01m%s\u001b[39;00m\u001b[38;5;130;01m\\\"\u001b[39;00m\u001b[38;5;124m is not supported. Supported types: \u001b[39m\u001b[38;5;132;01m%s\u001b[39;00m\u001b[38;5;124m\"\u001b[39m\n\u001b[1;32m--> 411\u001b[0m         \u001b[38;5;28;01mraise\u001b[39;00m \u001b[38;5;167;01mTypeError\u001b[39;00m(msg \u001b[38;5;241m%\u001b[39m (\u001b[38;5;28mformat\u001b[39m, \u001b[38;5;124m'\u001b[39m\u001b[38;5;124m, \u001b[39m\u001b[38;5;124m'\u001b[39m\u001b[38;5;241m.\u001b[39mjoin(eps)))\n\u001b[0;32m    412\u001b[0m \u001b[38;5;66;03m# file format should be known by now\u001b[39;00m\n\u001b[0;32m    413\u001b[0m \u001b[38;5;28;01mtry\u001b[39;00m:\n\u001b[0;32m    414\u001b[0m     \u001b[38;5;66;03m# search readFormat for given entry point\u001b[39;00m\n",
      "\u001b[1;31mTypeError\u001b[0m: Format \"QUAKEML\" is not supported. Supported types: "
     ]
    }
   ],
   "source": [
    "from obspy.clients.fdsn import Client\n",
    "\n",
    "client = Client(\"USGS\")\n",
    "\n",
    "catalog = client.get_events(starttime=\"2024-10-01\", endtime=\"2024-10-11\", minmagnitude=3)\n",
    "\n",
    "for event in catalog:\n",
    "    temp = event.origins[0]\n",
    "    location = temp.longitude, temp.latitude\n",
    "    print(f\"Event: {event}, Magnitude: {event.magnitudes[0].mag}\")\n",
    "    print(temp)\n"
   ]
  }
 ],
 "metadata": {
  "kernelspec": {
   "display_name": "Python 3.11 (tensorflow-gpu)",
   "language": "python",
   "name": "tf"
  },
  "language_info": {
   "codemirror_mode": {
    "name": "ipython",
    "version": 3
   },
   "file_extension": ".py",
   "mimetype": "text/x-python",
   "name": "python",
   "nbconvert_exporter": "python",
   "pygments_lexer": "ipython3",
   "version": "3.9.18"
  }
 },
 "nbformat": 4,
 "nbformat_minor": 2
}
